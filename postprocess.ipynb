{
 "cells": [
  {
   "cell_type": "markdown",
   "id": "5577e71c",
   "metadata": {},
   "source": [
    "# Process the generated images (tif) and make new video"
   ]
  },
  {
   "cell_type": "code",
   "execution_count": 1,
   "id": "0b89c134-dce0-4001-b5a1-320908b63dc9",
   "metadata": {},
   "outputs": [
    {
     "name": "stdout",
     "output_type": "stream",
     "text": [
      "MoviePy - Building file ./data/gifs/batwoman.gif with imageio.\n"
     ]
    },
    {
     "name": "stderr",
     "output_type": "stream",
     "text": [
      "                                                   \r"
     ]
    },
    {
     "name": "stdout",
     "output_type": "stream",
     "text": [
      "Basic information about the input video ./data/videos/demo_input.mp4:\n",
      "                  FPS: 25.0\tDuration: 5.53\t                  Total frames: 138\n",
      "Moviepy - Building video batwoman.mp4.\n",
      "MoviePy - Writing audio in batwomanTEMP_MPY_wvf_snd.mp4\n"
     ]
    },
    {
     "name": "stderr",
     "output_type": "stream",
     "text": [
      "                                                       \r"
     ]
    },
    {
     "name": "stdout",
     "output_type": "stream",
     "text": [
      "MoviePy - Done.\n",
      "Moviepy - Writing video batwoman.mp4\n",
      "\n"
     ]
    },
    {
     "name": "stderr",
     "output_type": "stream",
     "text": [
      "                                                   "
     ]
    },
    {
     "name": "stdout",
     "output_type": "stream",
     "text": [
      "Moviepy - Done !\n",
      "Moviepy - video ready batwoman.mp4\n"
     ]
    },
    {
     "name": "stderr",
     "output_type": "stream",
     "text": [
      "\r"
     ]
    }
   ],
   "source": [
    "from video_process import VideoProcess\n",
    "\n",
    "\n",
    "name = 'batwoman'\n",
    "original_vid = './data/videos/demo_input.mp4'\n",
    "generated_gifs = f'./data/gifs/{name}.gif'\n",
    "vp = VideoProcess(original_vid, generated_gifs)\n",
    "\n",
    "# get information (PFS, duration, frames) about the input video \n",
    "print(vp)\n",
    "vp.video(f'{name}.mp4') "
   ]
  },
  {
   "cell_type": "markdown",
   "id": "e9d8ea12",
   "metadata": {},
   "source": [
    "### Convert the orginal video to gif (same dim as the generated)"
   ]
  },
  {
   "cell_type": "code",
   "execution_count": null,
   "id": "92a48aea",
   "metadata": {},
   "outputs": [],
   "source": [
    "vp.mp42gifs(outname='input_demo.gif', resize=True)"
   ]
  }
 ],
 "metadata": {
  "kernelspec": {
   "display_name": "NERSC Python",
   "language": "python",
   "name": "python3"
  },
  "language_info": {
   "codemirror_mode": {
    "name": "ipython",
    "version": 3
   },
   "file_extension": ".py",
   "mimetype": "text/x-python",
   "name": "python",
   "nbconvert_exporter": "python",
   "pygments_lexer": "ipython3",
   "version": "3.11.7"
  }
 },
 "nbformat": 4,
 "nbformat_minor": 5
}
